{
 "cells": [
  {
   "cell_type": "markdown",
   "metadata": {},
   "source": [
    "# BOLT TENSILE STRESS AREA CALCULATION"
   ]
  },
  {
   "cell_type": "code",
   "execution_count": 2,
   "metadata": {},
   "outputs": [],
   "source": [
    "import math"
   ]
  },
  {
   "cell_type": "code",
   "execution_count": 6,
   "metadata": {},
   "outputs": [
    {
     "name": "stdout",
     "output_type": "stream",
     "text": [
      "Tensile Stress Area:  1757.9065221898675\n"
     ]
    }
   ],
   "source": [
    "# Diamater of the bolt in the FE Model\n",
    "ds = 47.31\n",
    "\n",
    "# Tensile stress area of this bolt is calculated based on:\n",
    "As = math.pi * pow(ds/2,2)\n",
    "print('Tensile Stress Area: ',As)"
   ]
  },
  {
   "cell_type": "code",
   "execution_count": 9,
   "metadata": {},
   "outputs": [
    {
     "name": "stdout",
     "output_type": "stream",
     "text": [
      "Tensile Stress Area:  1757.8345308769192\n",
      "Diameter of screw: 47.30903125\n"
     ]
    }
   ],
   "source": [
    "# ISO M52x5 : means nominal diameter = 52mm and Pitch is 5mm\n",
    "\n",
    "\n",
    "d = 52 # Nominal Diameter\n",
    "P = 5 # Pitch\n",
    "\n",
    "H = 0.866025*P\n",
    "d1 = d - 1.25*H\n",
    "d2 = d - 0.75*H\n",
    "d3 = d1 - H/6\n",
    "\n",
    "# Tensile stress area of this bolt is calculated based on:\n",
    "As = math.pi/4 * pow((d2+d3)/2,2)\n",
    "print('Tensile Stress Area: ',As)\n",
    "\n",
    "# The diameter of screw used in FE Model is calculated as below:\n",
    "ds = d - (P*13*0.866025)/12\n",
    "print('Diameter of screw in FE Model:', ds)\n"
   ]
  },
  {
   "cell_type": "code",
   "execution_count": null,
   "metadata": {},
   "outputs": [],
   "source": []
  }
 ],
 "metadata": {
  "kernelspec": {
   "display_name": "Python 3",
   "language": "python",
   "name": "python3"
  },
  "language_info": {
   "codemirror_mode": {
    "name": "ipython",
    "version": 3
   },
   "file_extension": ".py",
   "mimetype": "text/x-python",
   "name": "python",
   "nbconvert_exporter": "python",
   "pygments_lexer": "ipython3",
   "version": "3.7.6"
  }
 },
 "nbformat": 4,
 "nbformat_minor": 4
}
